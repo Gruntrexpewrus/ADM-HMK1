{
 "cells": [
  {
   "cell_type": "markdown",
   "metadata": {},
   "source": [
    "## EXERCISES LISTED BY NAMES AND IN THE SITE ORDER"
   ]
  },
  {
   "cell_type": "code",
   "execution_count": 1,
   "metadata": {
    "scrolled": true
   },
   "outputs": [
    {
     "name": "stdout",
     "output_type": "stream",
     "text": [
      "1\n",
      "2\n",
      "3\n"
     ]
    }
   ],
   "source": [
    "#Solve me first\n",
    "def solveMeFirst(a,b):\n",
    "\t# Hint: Type return a+b below\n",
    "    return a+b\n",
    "\n",
    "num1 = int(input())\n",
    "num2 = int(input())\n",
    "res = solveMeFirst(num1,num2)\n",
    "print(res)\n"
   ]
  },
  {
   "cell_type": "code",
   "execution_count": 2,
   "metadata": {
    "scrolled": true
   },
   "outputs": [
    {
     "name": "stdout",
     "output_type": "stream",
     "text": [
      "Hello, World!\n"
     ]
    }
   ],
   "source": [
    "#Say \"Hello, World!\" with python\n",
    "print(\"Hello, World!\")"
   ]
  },
  {
   "cell_type": "code",
   "execution_count": null,
   "metadata": {},
   "outputs": [],
   "source": [
    "#Python If-Else\n",
    "#!/bin/python3\n",
    "\n",
    "import math\n",
    "import os\n",
    "import random\n",
    "import re\n",
    "import sys\n",
    "\n",
    "\n",
    "\n",
    "if __name__ == '__main__':\n",
    "    n = int(input().strip())\n",
    "    if (n%2 != 0):\n",
    "        print(\"Weird\")\n",
    "    else:\n",
    "        if(n<= 5 and n>=2):\n",
    "            print(\"Not Weird\")\n",
    "        elif(n>=6 and n<=20):\n",
    "            print(\"Weird\")\n",
    "        else:\n",
    "            print(\"Not Weird\")"
   ]
  },
  {
   "cell_type": "code",
   "execution_count": null,
   "metadata": {},
   "outputs": [],
   "source": [
    "#Arithmetic Operators\n",
    "if __name__ == '__main__':\n",
    "    a = int(input())\n",
    "    b = int(input())\n",
    "    print(a+b)\n",
    "    print(a-b)\n",
    "    print(a*b)"
   ]
  },
  {
   "cell_type": "code",
   "execution_count": null,
   "metadata": {},
   "outputs": [],
   "source": [
    "#Python Division\n",
    "if __name__ == '__main__':\n",
    "    a = int(input())\n",
    "    b = int(input())\n",
    "    print(a//b)\n",
    "    print(a/b)"
   ]
  },
  {
   "cell_type": "code",
   "execution_count": null,
   "metadata": {},
   "outputs": [],
   "source": [
    "#Loops\n",
    "if __name__ == '__main__':\n",
    "    n = int(input())\n",
    "    i=0\n",
    "    while(i<n):\n",
    "        print(i**2)\n",
    "        i=i+1"
   ]
  },
  {
   "cell_type": "code",
   "execution_count": null,
   "metadata": {},
   "outputs": [],
   "source": [
    "#Write a fucntion\n",
    "def is_leap(year):\n",
    "    leap = False\n",
    "    \n",
    "    # Write your logic here\n",
    "    if(year%4==0 and year%100 !=0 or( year%4==0 and year%100==0 and year%400==0)):\n",
    "        leap = True\n",
    "    return leap"
   ]
  },
  {
   "cell_type": "code",
   "execution_count": null,
   "metadata": {},
   "outputs": [],
   "source": [
    "#Print a function\n",
    "if __name__ == '__main__':\n",
    "    n = int(input())\n",
    "    import sys\n",
    "    A = []\n",
    "    for a in range(1,n+1):\n",
    "        A.append(a)\n",
    "    print(*A, sep='', end='\\n', file=sys.stdout)"
   ]
  },
  {
   "cell_type": "code",
   "execution_count": null,
   "metadata": {},
   "outputs": [],
   "source": [
    "#List Comprehensions\n",
    "if __name__ == '__main__':\n",
    "    x = int(input())\n",
    "    y = int(input())\n",
    "    z = int(input())\n",
    "    n = int(input())\n",
    "#my code\n",
    "    L = []\n",
    "    for a in range(x+1):\n",
    "        for b in range(y+1):\n",
    "            for c in range(z+1):\n",
    "                if(a+b+c !=n):\n",
    "                    L.append([a,b,c])\n",
    "    print(L)"
   ]
  },
  {
   "cell_type": "code",
   "execution_count": null,
   "metadata": {},
   "outputs": [],
   "source": [
    "#Find a Runner-Up Score\n",
    "if __name__ == '__main__':\n",
    "    n = int(input())\n",
    "    arr = map(int, input().split())\n",
    "    arr = list(arr)\n",
    "    R = max(arr)\n",
    "    while(max(arr)==R):\n",
    "        arr.remove(max(arr))\n",
    "    print(max(arr))"
   ]
  },
  {
   "cell_type": "code",
   "execution_count": null,
   "metadata": {},
   "outputs": [],
   "source": [
    "#Nested lists\n",
    "if __name__ == '__main__':\n",
    "    nested = []\n",
    "    for _ in range(int(input())):\n",
    "        name = input()\n",
    "        score = float(input())\n",
    "        nested.append([name,score])\n",
    "    #print(nested)\n",
    "    a = len(nested)\n",
    "    nested.sort(key = lambda a: a[1])\n",
    "    #print(nested)\n",
    "    M=nested[0][1]\n",
    "    #print(M)\n",
    "    k=1\n",
    "    while(nested[0][1]==M):\n",
    "        del(nested[0])\n",
    "        k = k+1\n",
    "    #print(nested)\n",
    "    P = []\n",
    "    #print(P)\n",
    "    #print(len(nested))\n",
    "    newnested = [] \n",
    "    newnested.append(nested)\n",
    "   # print(newnested[0][2])\n",
    "    #print(nested[3][1])\n",
    "    for i in range(0,len(nested)):  \n",
    "        #print(i)\n",
    "        #print(nested[i][0])\n",
    "        j = 1\n",
    "        \n",
    "        #print(nested[i][j])\n",
    "        if(nested[0][1]==nested[i][j]):\n",
    "               # print(nested[i][0])\n",
    "                P.append(nested[i][0])\n",
    "    P.sort()\n",
    "    #print(P)\n",
    "    for i in range(len(P)):\n",
    "        print(P[i])"
   ]
  },
  {
   "cell_type": "code",
   "execution_count": null,
   "metadata": {},
   "outputs": [],
   "source": [
    "#Finding the percentage\n",
    "if __name__ == '__main__':\n",
    "    n = int(input())\n",
    "    student_marks = {}\n",
    "    for _ in range(n):\n",
    "        name, *line = input().split()\n",
    "        scores = list(map(float, line))\n",
    "        student_marks[name] = scores\n",
    "    query_name = input()\n",
    "    #print(student_marks)\n",
    "    L = []\n",
    "    L = student_marks[query_name]\n",
    "    s=0\n",
    "    #print(L)\n",
    "    for i in range(len(L)):\n",
    "        s=s+L[i]\n",
    "    s=s/len(L)\n",
    "    #print(s)\n",
    "    print (\"{0:.2f}\".format(s))"
   ]
  },
  {
   "cell_type": "code",
   "execution_count": null,
   "metadata": {},
   "outputs": [],
   "source": [
    "#Lists\n",
    "if __name__ == '__main__':\n",
    "    N = int(input())\n",
    "    L=[]\n",
    "    if(N==0):\n",
    "        print(L)\n",
    "    else:\n",
    "     for i in range(N):\n",
    "        x=input().split(' ')\n",
    "        #print(x)\n",
    "        if(x[0]=='insert'):\n",
    "            k=int(x[1])\n",
    "            j=int(x[2])\n",
    "            L.insert(k,j)\n",
    "        elif(x[0]=='print'):\n",
    "            print(L)\n",
    "        elif(x[0]=='remove'):\n",
    "            k=x[1]\n",
    "            L.remove(int(k))\n",
    "        elif(x[0]=='append'):\n",
    "            k=x[1]\n",
    "            L.append(int(k))\n",
    "        elif(x[0]=='sort'):\n",
    "            L.sort()\n",
    "        elif(x[0]=='pop'):\n",
    "            L.pop()\n",
    "        elif(x[0]=='reverse'):\n",
    "            L.reverse()"
   ]
  },
  {
   "cell_type": "code",
   "execution_count": null,
   "metadata": {},
   "outputs": [],
   "source": [
    "#Tuples\n",
    "if __name__ == '__main__':\n",
    "    n = int(input())\n",
    "    integer_list = map(int, input().split())\n",
    "    tupla = tuple(integer_list)\n",
    "    print (hash(tupla))"
   ]
  },
  {
   "cell_type": "code",
   "execution_count": null,
   "metadata": {},
   "outputs": [],
   "source": [
    "#sWAP cASE\n",
    "def swap_case(s):\n",
    "    return s.swapcase()"
   ]
  },
  {
   "cell_type": "code",
   "execution_count": null,
   "metadata": {},
   "outputs": [],
   "source": [
    "#String Split and Join\n",
    "def split_and_join(line):\n",
    "    # write your code here  \n",
    "    return line.replace(\" \",\"-\")"
   ]
  },
  {
   "cell_type": "code",
   "execution_count": null,
   "metadata": {},
   "outputs": [],
   "source": [
    "#What's your name\n",
    "def print_full_name(a, b):\n",
    "    print(\"Hello %s %s! You just delved into python.\"%(a,b))"
   ]
  },
  {
   "cell_type": "code",
   "execution_count": null,
   "metadata": {},
   "outputs": [],
   "source": [
    "#Mutations\n",
    "def mutate_string(string, position, character):\n",
    "    return(string[:position]+character+string[position+1:])"
   ]
  },
  {
   "cell_type": "code",
   "execution_count": null,
   "metadata": {},
   "outputs": [],
   "source": [
    "#Find a String\n",
    "def count_substring(string, sub_string):\n",
    "    count=0\n",
    "    for i in range(len(string)-len(sub_string)+1):\n",
    "        #print(i)\n",
    "        if string[i]==sub_string[0]:\n",
    "            set =len(sub_string)\n",
    "            for j in range(1,len(sub_string)):\n",
    "                    #print(j)\n",
    "                    if(string[i+j]!=sub_string[j]):\n",
    "                      set=set+1\n",
    "            if set==len(sub_string):\n",
    "                count=count+1  \n",
    "                #print(count)          \n",
    "    return count"
   ]
  },
  {
   "cell_type": "code",
   "execution_count": null,
   "metadata": {},
   "outputs": [],
   "source": [
    "#String Validators\n",
    "if __name__ == '__main__':\n",
    "    s = input()\n",
    "    s = list(s)\n",
    "    a=0\n",
    "    b=0\n",
    "    c=0\n",
    "    d=0\n",
    "    e=0\n",
    "    for i in range(len(s)):\n",
    "        if(s[i].isalnum() and a==0):\n",
    "             print(s[i].isalnum())\n",
    "             a=a+1\n",
    "        if(a==0and i==len(s)-1):\n",
    "            print(False)\n",
    "    for i in range(len(s)):\n",
    "        if(s[i].isalpha() and b==0):\n",
    "            print(s[i].isalpha())\n",
    "            b=b+1\n",
    "        if(b==0and i==len(s)-1):\n",
    "            print(False)\n",
    "    for i in range(len(s)):\n",
    "        if(s[i].isdigit() and c==0):\n",
    "             print(s[i].isdigit())\n",
    "             c=c+1\n",
    "        if(c==0and i==len(s)-1):\n",
    "            print(False)\n",
    "    for i in range(len(s)):\n",
    "        if(s[i].islower() and d==0):\n",
    "            print(s[i].islower())\n",
    "            d=d+1\n",
    "        if(d==0and i==len(s)-1):\n",
    "             print(False)\n",
    "    for i in range(len(s)):\n",
    "        if(s[i].isupper() and e==0):\n",
    "            print(s[i].isupper())\n",
    "            e=e+1\n",
    "        if(e==0and i==len(s)-1):\n",
    "            print(False)"
   ]
  },
  {
   "cell_type": "code",
   "execution_count": null,
   "metadata": {},
   "outputs": [],
   "source": [
    "#Text Alignment\n",
    "#Replace all ______ with rjust, ljust or center. \n",
    "\n",
    "thickness = int(input()) #This must be an odd number\n",
    "c = 'H'\n",
    "\n",
    "#Top Cone\n",
    "for i in range(thickness):\n",
    "    print((c*i).rjust(thickness-1)+c+(c*i).ljust(thickness-1))\n",
    "\n",
    "#Top Pillars \n",
    "for i in range(thickness+1):\n",
    "    print((c*thickness).center(thickness*2)+(c*thickness).center(thickness*6))\n",
    "\n",
    "#Middle Belt\n",
    "for i in range((thickness+1)//2):\n",
    "    print((c*thickness*5).center(thickness*6))    \n",
    "\n",
    "#Bottom Pillars\n",
    "for i in range(thickness+1):\n",
    "    print((c*thickness).center(thickness*2)+(c*thickness).center(thickness*6))    \n",
    "\n",
    "#Bottom Cone\n",
    "for i in range(thickness):\n",
    "    print(((c*(thickness-i-1)).rjust(thickness)+c+(c*(thickness-i-1)).ljust(thickness)).rjust(thickness*6))"
   ]
  },
  {
   "cell_type": "code",
   "execution_count": null,
   "metadata": {},
   "outputs": [],
   "source": [
    "#Text Wrap\n",
    "def wrap(string, max_width):\n",
    "    return textwrap.fill(string,max_width)"
   ]
  },
  {
   "cell_type": "code",
   "execution_count": null,
   "metadata": {},
   "outputs": [],
   "source": [
    "#Designer Door Mat\n",
    "# Enter your code here. Read input from STDIN. Print output to STDOUT\n",
    "N,M = map(int, input().split())\n",
    "for i in range(int(N/2)):\n",
    "    print(('.|.'*(1+2*i)).center(M,'-'))\n",
    "print(('WELCOME').center(M,'-'))\n",
    "for i in range(1,int(N/2)+1):\n",
    "    print(('.|.'*(1+2*(int(N/2)-i))).center(M,'-'))"
   ]
  },
  {
   "cell_type": "code",
   "execution_count": null,
   "metadata": {},
   "outputs": [],
   "source": [
    "#String Formatting\n",
    "def print_formatted(number):\n",
    "    # your code goes here\n",
    "    w=len(bin(number))-2\n",
    "    for i in range(1,number+1):\n",
    "         print (\"{0:{t}d} {0:{t}o} {0:{t}X} {0:{t}b}\".format(i,t=w))\n",
    "    return \n",
    "        #print((l[i])"
   ]
  },
  {
   "cell_type": "code",
   "execution_count": null,
   "metadata": {},
   "outputs": [],
   "source": [
    "#Alphabet Rangoli\n",
    "def print_rangoli(size):\n",
    "    # your code goes here\n",
    "    import string\n",
    "    alf = string.ascii_lowercase\n",
    "    s = size\n",
    "    L = []\n",
    "    for i in range(s):\n",
    "        alf2='-'.join(alf[i:s])\n",
    "        L.append((alf2[::-1]+alf2[1:]).center((s*2-1)*2-1,'-'))\n",
    "    for i in range(len(L)):\n",
    "        print(L[len(L)-i-1])\n",
    "    for i in range(1,len(L)):\n",
    "        print ((L[i]))"
   ]
  },
  {
   "cell_type": "code",
   "execution_count": null,
   "metadata": {},
   "outputs": [],
   "source": [
    "#Capitalize!\n",
    "def solve(s):\n",
    "    a = s.split(' ')\n",
    "    L =[]\n",
    "    for i in a:\n",
    "        L.append(i.capitalize())\n",
    "    return ' '.join(L)"
   ]
  },
  {
   "cell_type": "code",
   "execution_count": null,
   "metadata": {},
   "outputs": [],
   "source": [
    "#The Minion Game\n",
    "def minion_game(string):\n",
    "    # your code goes here\n",
    "    Vow = ['A', 'E', 'I', 'O', 'U']\n",
    "    #creo una lista per Kevin\n",
    "   # Dj = []\n",
    "    #quelle con i 2 sono indici\n",
    "    Dj2 = []\n",
    "   # Dy = []\n",
    "    Dy2 =[]\n",
    "    T=[]\n",
    "    T = list(string)\n",
    "    A=len(T)\n",
    "    for i in range(len(T)):\n",
    "        if T[i] in Vow:\n",
    "                Dj2.append(i)\n",
    "        if T[i] not in Vow:\n",
    "                Dy2.append(i)\n",
    "    #ho fatto una lista di indici e ora pian piano sottraggo la lunghezza della stringa aglio indici così da avere tutte le volte che compare la cons o la vocale\n",
    "    St=0\n",
    "    for i in Dy2:\n",
    "        St=A-i+St\n",
    "    Ke=0\n",
    "    for i in Dj2:\n",
    "        Ke=A-i+Ke\n",
    "    if Ke>St:\n",
    "        return print('Kevin',Ke)\n",
    "    elif St>Ke:\n",
    "        return print('Stuart',St)\n",
    "    else:\n",
    "        return print(\"Draw\")"
   ]
  },
  {
   "cell_type": "code",
   "execution_count": null,
   "metadata": {},
   "outputs": [],
   "source": [
    "#Merge the Tools\n",
    "def merge_the_tools(string, k):\n",
    "    S = ''\n",
    "    i=0\n",
    "  #man mano prendo le sottostringhe e mi segno i valori \n",
    "    for i in range(0,len(string), k):\n",
    "        S=string[i:i+k]\n",
    "        s=''\n",
    "        B=[]\n",
    "        for j in range(k):\n",
    "            if S[j] not in B:\n",
    "                B.append(S[j])\n",
    "                s=s+S[j]\n",
    "        print (s)\n",
    "#avevo trovato motrli altri metodi ma al solo 15esimo input non giravano in tempo e per un solo test sbagliato dava solo 2,5 punti su 40"
   ]
  },
  {
   "cell_type": "code",
   "execution_count": null,
   "metadata": {},
   "outputs": [],
   "source": [
    "#Introduction to sets\n",
    "def average(array):\n",
    "    # your code goes here\n",
    "    a=set(array)\n",
    "    return sum(a)/len(a)"
   ]
  },
  {
   "cell_type": "code",
   "execution_count": null,
   "metadata": {},
   "outputs": [],
   "source": [
    "#Symmetric Difference\n",
    "# Enter your code here. Read input from STDIN. Print output to STDOUT\n",
    "a, lis1 = (input(), input().split())\n",
    "b, lis2 = (input(), input().split())\n",
    "lis1 = set(lis1)\n",
    "lis2 = set(lis2)\n",
    "lis3 = ()\n",
    "lis3 = lis1.symmetric_difference(lis2)\n",
    "#sois3)\n",
    "#print(lis3)rted(l\n",
    "for i in sorted(lis3,key =int):\n",
    "    print(i)"
   ]
  },
  {
   "cell_type": "code",
   "execution_count": null,
   "metadata": {},
   "outputs": [],
   "source": [
    "#No Idea!\n",
    "# Enter your code here. Read input from STDIN. Print output to STDOUT\n",
    "n,m = input().split()\n",
    "a=[]\n",
    "a =input().split()\n",
    "A=set(input().split())\n",
    "B=set(input().split())\n",
    "#print(A,B,a)\n",
    "count=0\n",
    "for i in a:\n",
    "    if i in A:\n",
    "        count=count+1\n",
    "            #print(count)\n",
    "for i in a:\n",
    "    if i in B:\n",
    "         count=count-1\n",
    "print(count)"
   ]
  },
  {
   "cell_type": "code",
   "execution_count": null,
   "metadata": {},
   "outputs": [],
   "source": [
    "#Set.add()\n",
    "# Enter your code here. Read input from STDIN. Print output to STDOUT\n",
    "a = int(input())\n",
    "b = set()\n",
    "for i in range(a):\n",
    "    c= input()\n",
    "    if c not in b:\n",
    "        b.add(c)\n",
    "print(len(b))"
   ]
  },
  {
   "cell_type": "code",
   "execution_count": null,
   "metadata": {},
   "outputs": [],
   "source": [
    "#Set .discard(), .remove() & .pop()\n",
    "n = int(input())\n",
    "s = set(map(int, input().split()))\n",
    "for i in range(int(input())):\n",
    "    k = list(input().split())\n",
    "    #print(k)\n",
    "    if k[0]=='pop':\n",
    "        s.pop()\n",
    "    elif k[0]=='remove':\n",
    "        s.remove(int(k[1]))\n",
    "    elif k[0]=='discard':\n",
    "        s.discard(int(k[1]))\n",
    "    #print(s)\n",
    "print (sum(s))"
   ]
  },
  {
   "cell_type": "code",
   "execution_count": null,
   "metadata": {},
   "outputs": [],
   "source": [
    "#Set .union() Operation\n",
    "n= int(input())\n",
    "stun = set(input().split())\n",
    "b = int(input())\n",
    "stub = set(input().split())\n",
    "print (len(stun.union(stub)))"
   ]
  },
  {
   "cell_type": "code",
   "execution_count": null,
   "metadata": {},
   "outputs": [],
   "source": [
    "#Set .intersection() Operation\n",
    "n= int(input())\n",
    "stun = set(input().split())\n",
    "b = int(input())\n",
    "stub = set(input().split())\n",
    "print (len(stun.intersection(stub)))"
   ]
  },
  {
   "cell_type": "code",
   "execution_count": null,
   "metadata": {},
   "outputs": [],
   "source": [
    "#Set .difference() Operation\n",
    "n= int(input())\n",
    "stun = set(input().split())\n",
    "b = int(input())\n",
    "stub = set(input().split())\n",
    "print (len(stun-(stub)))"
   ]
  },
  {
   "cell_type": "code",
   "execution_count": null,
   "metadata": {},
   "outputs": [],
   "source": [
    "#Set .symmetric_difference() Operation\n",
    "n= int(input())\n",
    "stun = set(input().split())\n",
    "b = int(input())\n",
    "stub = set(input().split())\n",
    "print (len(stun^(stub)))"
   ]
  },
  {
   "cell_type": "code",
   "execution_count": null,
   "metadata": {},
   "outputs": [],
   "source": [
    "#Set Mutations\n",
    "n = int(input())\n",
    "lis = set(map(int, input().split()))\n",
    "ots = int(input())\n",
    "for i in range(ots):\n",
    "    oper, oper1 = (input().split())\n",
    "    oplist = set(map(int, input().split()))\n",
    "    if oper=='intersection_update':\n",
    "        lis&=(oplist)\n",
    "    if oper=='update':\n",
    "        lis.update(oplist)\n",
    "    if oper=='symmetric_difference_update':\n",
    "        lis^=(oplist)\n",
    "    if oper=='difference_update':\n",
    "        lis-=(oplist)\n",
    "    #print(lis)\n",
    "print (sum(lis))"
   ]
  },
  {
   "cell_type": "code",
   "execution_count": null,
   "metadata": {},
   "outputs": [],
   "source": [
    "#The Captain's Room\n",
    "a = int(input())\n",
    "gruppy = list(map(int, input().split()))\n",
    "grappy = set(gruppy)\n",
    "#print(grappy\n",
    "#print(type(a))\n",
    "#the only economic way is to count a times the sum of a set wiht the *list numbers without repetition* and subtract the list i created, the Captan room will be ez then\n",
    "B = sum(grappy)*a - sum(gruppy)   #a-1 times capt room\n",
    "print(B//(a-1)) #// cause i need an integer(it must be always but i would have gopttene like 3.0 and not 3 as required)\n",
    "#whatching the discussion almost anyone got these combinatorical solution"
   ]
  },
  {
   "cell_type": "code",
   "execution_count": null,
   "metadata": {},
   "outputs": [],
   "source": [
    "#Check Subset\n",
    "# Enter your code here. Read input from STDIN. Print output to STDOUT\n",
    "a= int(input())\n",
    "for i in range(a):\n",
    "    n1=int(input())\n",
    "    s1=set(input().split())\n",
    "    n2=int(input())\n",
    "    s2=set(input().split())\n",
    "    #i use the function *issubset*\n",
    "    #I continue to save stuff like n1 or n2 but calling the set not with a for is useless, indeed the exercise ask for them anyway so i feel like putting them for beauty.\n",
    "    print (s1.issubset(s2))"
   ]
  },
  {
   "cell_type": "code",
   "execution_count": null,
   "metadata": {},
   "outputs": [],
   "source": [
    "#Check Strict Superset\n",
    "SS = set(input().split())\n",
    "n = int(input())\n",
    "K = True\n",
    "for i in range(n):\n",
    "    ss = set(input().split())\n",
    "    #check if is not a subset or if the lenght of the two sets is equal\n",
    "    if ss.issubset(SS)== False or len(ss)==len(SS):\n",
    "        K=False\n",
    "print(K)"
   ]
  },
  {
   "cell_type": "code",
   "execution_count": null,
   "metadata": {},
   "outputs": [],
   "source": [
    "#collections.Counter()\n",
    "# Enter your code here. Read input from STDIN. Print output to STDOUT\n",
    "from collections import Counter\n",
    "shoes = int(input())\n",
    "raghu =Counter(map(int,input().split()))\n",
    "#B = Counter(raghu)\n",
    "#print(raghu)\n",
    "cust = int(input())\n",
    "total=0\n",
    "for i in range(cust):\n",
    "    a,b =map(int,input().split())\n",
    "    if raghu[a]:\n",
    "        #print(raghu[a])\n",
    "        # if i get the key, i go in the values and sum the euros and subtract the shoe from ther counter\n",
    "        if raghu[a]>=1:\n",
    "            raghu[a] = raghu[a]-1\n",
    "            #print(raghu[a])\n",
    "            total= total + b\n",
    "            #print(total)\n",
    "print(total)"
   ]
  },
  {
   "cell_type": "code",
   "execution_count": null,
   "metadata": {},
   "outputs": [],
   "source": [
    "#DefaultDict Tutorial\n",
    "from collections import defaultdict\n",
    "d = defaultdict(list)\n",
    "a, b = map(int, input().split())\n",
    "for i in range(a):\n",
    "    d[input()].append(str(i+1))\n",
    "#print(d)\n",
    "for j in range(b):\n",
    "    k = input()\n",
    "    if d[k]:\n",
    "        print(' '.join(d[k]))\n",
    "    else:\n",
    "        print(-1)"
   ]
  },
  {
   "cell_type": "code",
   "execution_count": null,
   "metadata": {},
   "outputs": [],
   "source": [
    "#Collections.namedtuple()\n",
    "from collections import namedtuple\n",
    "N = int(input())\n",
    "average = 0\n",
    "Tup = namedtuple('ST',input().split())\n",
    "#print(Tup)\n",
    "for i in range(N): \n",
    "    a = Tup(*input().split()) #this * that unpacks is very cool just discovered because without would not work\n",
    "    #+print(a.MARKS)\n",
    "    average+=int(a.MARKS)\n",
    "print(average/N)"
   ]
  },
  {
   "cell_type": "code",
   "execution_count": null,
   "metadata": {},
   "outputs": [],
   "source": [
    "#collections.OrderedDict\n",
    "from collections import OrderedDict\n",
    "od = OrderedDict()\n",
    "nit = int(input())\n",
    "for i in range(nit):\n",
    "    l = list(input().split())\n",
    "    if len(l)>2:\n",
    "        price = int(l[2])\n",
    "        it = l[0]+' '+l[1]\n",
    "    else:\n",
    "        price= int(l[1])\n",
    "        it=l[0]\n",
    "    if (it) in od:\n",
    "        od[it]+=price\n",
    "    else:\n",
    "            od[it]=int(price)\n",
    "for k, v in od.items():\n",
    "    print(k,v)"
   ]
  },
  {
   "cell_type": "code",
   "execution_count": null,
   "metadata": {},
   "outputs": [],
   "source": [
    "#Word Order\n",
    "from collections import OrderedDict\n",
    "od = OrderedDict()\n",
    "nit = int(input())\n",
    "K=0\n",
    "for i in range(nit):\n",
    "    l = input()\n",
    "    if l in od:\n",
    "        od[l]+=1\n",
    "    else:\n",
    "        od[l]=int(1)\n",
    "        K=K+1\n",
    "print(K)\n",
    "print(*od.values())"
   ]
  },
  {
   "cell_type": "code",
   "execution_count": null,
   "metadata": {},
   "outputs": [],
   "source": []
  }
 ],
 "metadata": {
  "kernelspec": {
   "display_name": "Python 3",
   "language": "python",
   "name": "python3"
  },
  "language_info": {
   "codemirror_mode": {
    "name": "ipython",
    "version": 3
   },
   "file_extension": ".py",
   "mimetype": "text/x-python",
   "name": "python",
   "nbconvert_exporter": "python",
   "pygments_lexer": "ipython3",
   "version": "3.7.3"
  }
 },
 "nbformat": 4,
 "nbformat_minor": 2
}
